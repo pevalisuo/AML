{
 "cells": [
  {
   "cell_type": "markdown",
   "id": "b3102018",
   "metadata": {
    "slideshow": {
     "slide_type": "slide"
    }
   },
   "source": [
    "# Introduction"
   ]
  },
  {
   "cell_type": "markdown",
   "id": "92566d8f",
   "metadata": {
    "slideshow": {
     "slide_type": "slide"
    }
   },
   "source": [
    "## Artificial intelligence (AI)\n",
    " - *Intelligence demonstrated by machines.*\n",
    " - Some interpretation is that the AI is the methods which are not just yet taken into use. Therefore they may a machine look like an intelligent being, when you don't understand how it works.\n",
    " - An argument supporting this theory is that in 70's AI was exper systems, which are nowadays called as logics. Systems using artificial neural networks are more often described as just ANN or machine learning nowadays.\n",
    " - When/if we someday fully inderstand human brain, do we still call it intelligent or just an automaton.\n",
    "\n",
    "\n",
    "Humanized AI shows characteristics of all types of competencies (i.e., cognitive, emotional, and social intelligence), is able to be self-conscious and is self-aware in interactions."
   ]
  },
  {
   "cell_type": "markdown",
   "id": "35aebf5b",
   "metadata": {
    "slideshow": {
     "slide_type": "subslide"
    }
   },
   "source": [
    "## Machine Learning (ML)\n",
    "> Machine learning is a subset of artificial intelligence in the field of computer science that often uses statistical techniques to give computers the ability to \"learn\" with data, without being explicitly programmed.\n",
    "   [Wikipedia](https://en.wikipedia.org/wiki/Machine_learning)\n",
    "\n",
    "Human can learn by copying what the other humans do (learning from data) or they can directly learn the rules (e.g. learning math). Machine learning happens when a machine (e.g. computers) learns from data. Using the rules directly is programming."
   ]
  },
  {
   "cell_type": "markdown",
   "id": "ec9f4509",
   "metadata": {
    "slideshow": {
     "slide_type": "subslide"
    }
   },
   "source": [
    "### Data from IoT networks\n",
    "\n",
    "The decreasing size, cost and power consumption of micro-controllers have made\n",
    "it possible to make previously simple objects digital and smarter. For example\n",
    "room temperature thermostats, cameras, power and distribution grid components\n",
    "are nowadays usually digital. Simultaneously the coverage of wireless networks\n",
    "are ready to reach these ubiquitous sensors, creating so called Internet of Things\n",
    "(IoT) with them. The connectivity and reduced costs in storage technologies in\n",
    "turn have made it possible to store the data collected by the sensors distributed in\n",
    "the IoT networks. \n",
    "\n",
    "### Big data sources\n",
    "\n",
    "The increasing amounts of data is more and\n",
    "more often also openly published in the Internet. Easy access to large data sets\n",
    "has attracted researchers and businesses to apply data driven research methods to\n",
    "various data sources and to collect even more data in pursuing to extract value\n",
    "from large data sets. Success in these efforts in turn raises interests in collecting\n",
    "even more data."
   ]
  },
  {
   "cell_type": "markdown",
   "id": "739cb5e5",
   "metadata": {
    "slideshow": {
     "slide_type": "subslide"
    }
   },
   "source": [
    "### Sports\n",
    "\n",
    " <img src=\"kuvat/Kirittaret.jpg\" alt=\"kirittaret\" width=\"500\"/>\n",
    "\n",
    "Jyväskylä Kirittäret won the Finnish championship of baseball. They say that they had collected more data than they competitors about previous games. It is nowadays common in sports that the own and competing teams are hevily analyzed. Data analytics and machine learning is even more heavily used in international sports events."
   ]
  },
  {
   "cell_type": "markdown",
   "id": "d342f38f",
   "metadata": {
    "slideshow": {
     "slide_type": "subslide"
    }
   },
   "source": [
    "### Politics \n",
    "Statistics and ML plays a significant role also in the USA precidential elections. The opinions of the people in different states are known, and speeches written based on statistics. [Cambridge Analytica](https://en.wikipedia.org/wiki/Cambridge_Analytica) had a significant role in the previous elections already. Data mining based political consulting was their main business. Their interference to elections was recarded as scandalous by some, and they regard CA as [controversial company](https://www.politico.com/news/2020/02/19/trump-cambridge-analytica-oczkowski-114075). Some governmental organizations, [Internet Reserch Agency](https://en.wikipedia.org/wiki/Internet_Research_Agency), do utilize similar methods trying to affect to other nations. Perhaps these methods are staying for good, but it is really important for a citizen to understand it.\n",
    "\n",
    "### Social media\n",
    "The participants of this course may find a document [Valvontakapitalismin vaarat / Social Dilemma](https://www.netflix.com/title/81254224) as interesting. It describes the social media as a system, where AI and ML is analyzing the users, and the algorithms try to keep them addicted. According to he movie, the users are the product which are sold to advertisers and opinion leaders. The social media is said to build discussion bubbles which form a tailor made view to the reality for each user, thus polarizing the views. Social media provides excellent possibilities to analyze the behaviour and opinions of the individuals in almost real time and act upon."
   ]
  },
  {
   "cell_type": "markdown",
   "id": "c2151f0d",
   "metadata": {
    "slideshow": {
     "slide_type": "subslide"
    }
   },
   "source": [
    "### Before Machine Learning actually begins \n",
    "\n",
    "> According to the CrowdFlower Data Science report, data scientists spend the majority of their time  cleansing data — and surprisingly this is also their least favorite part of their job. [Artificial Intelligence vs. Machine Learning vs. Deep Learning](https://www.datasciencecentral.com/profiles/blogs/artificial-intelligence-vs-machine-learning-vs-deep-learning)"
   ]
  },
  {
   "cell_type": "markdown",
   "id": "78789ca1",
   "metadata": {
    "slideshow": {
     "slide_type": "subslide"
    }
   },
   "source": [
    "### How to turn data to information\n",
    "\n",
    "1. If you know the data, and know the rules, you can make a program to make decisions based on data.\n",
    "1. If you have data and you know the answers, you can let the computer to learn the rules\n",
    "1. If you have the data, but don't know anything, you can explore the data with unsupervised method\n",
    "\n",
    "<img src=\"kuvat/MachineLearning.svg\" alt=\"MachineLearningVsProgramming\" width=\"800\"/>"
   ]
  },
  {
   "cell_type": "markdown",
   "id": "dbf206c1",
   "metadata": {
    "slideshow": {
     "slide_type": "slide"
    }
   },
   "source": [
    "## Python"
   ]
  },
  {
   "cell_type": "code",
   "execution_count": null,
   "id": "ff6ec96e",
   "metadata": {
    "slideshow": {
     "slide_type": "fragment"
    }
   },
   "outputs": [],
   "source": [
    "print(\"Why python?\")\n",
    "question=\"And how is python related to machine learning anyway?\"\n",
    "print(question)"
   ]
  },
  {
   "cell_type": "markdown",
   "id": "1b9f8f7f",
   "metadata": {
    "slideshow": {
     "slide_type": "subslide"
    }
   },
   "source": [
    "- It is free and open source and it runs everywhere (in your phone, Raspberry-Pi, Cray, ...)\n",
    "- It is easy to learn (interactive, quite well known syntax, mimics MATLAB\n",
    "- It has really good libraries for ML\n",
    "  -  [Pandas](https://pandas.pydata.org/) for statistics, time series data processing and very convenient access to data\n",
    "  - [Scipy](https://www.scipy.org/) for engineering functions, optimisation, intrpolation, ...\n",
    "  - [NumPy](https://numpy.org/) for efficient numerial calculations, linear algebra, ...\n",
    "  - [Scikit-Learn](https://scikit-learn.org/stable/index.html) for Machine learning\n",
    "  - [Matplotlib](https://matplotlib.org/) for plotting graphics\n",
    "  - [Seaborn](https://seaborn.pydata.org/) another plotting library\n",
    "  - [Keras](https://keras.io/) for deep learning, using GPU\n",
    "- Python is also very versatile and can be used for many other purposes as well, and not only for ML\n",
    " \n",
    "Typical tools for programming\n",
    "- [Spyder](https://www.spyder-ide.org/) MATLAB-like programming and analysis interface for Python\n",
    "- [Jupyter](https://jupyter.org/) notebooks and jupyterlab are web based programming environments, which support also dozens of other languages\n",
    "- [Geany](https://www.geany.org/), [Atom](https://atom.io/), [Notepad++](https://notepad-plus-plus.org/) [VS-Code](https://code.visualstudio.com/), [Sublimetex](https://www.sublimetext.com/), [Emacs](https://www.gnu.org/software/emacs/), [VIM](https://www.vim.org/), or any other editor can be used of course\n",
    "- Sometimes it is convenient to work just by using interactive [IPython](https://ipython.org/) console"
   ]
  },
  {
   "cell_type": "markdown",
   "id": "8e764994",
   "metadata": {
    "slideshow": {
     "slide_type": "subslide"
    }
   },
   "source": [
    "### Python in currently really popular in ML\n",
    "\n",
    "<img src=\"kuvat/machine-learning-data-science-programming-language.png\" alt=\"MLLanguages\" width=\"500\"/>\n",
    "\n",
    "[Fossbytes](https://fossbytes.com/popular-top-programming-languages-machine-learning-data-science/)\n",
    "\n",
    "- According to GitHUB the order is 1) Python, 2) C++, 3) JavaScript, 4) Java\n",
    "- Julia is rising Fast\n",
    "- R has been very popular, but may be decreasing"
   ]
  },
  {
   "cell_type": "markdown",
   "id": "4dfc2cbe",
   "metadata": {
    "slideshow": {
     "slide_type": "subslide"
    }
   },
   "source": [
    "### Running Python without installation\n",
    "- Run it in the Jupyter Notebooks\n",
    "  - Run it in [Google Co-lab](https://colab.research.google.com/github/pevalisuo/AML/), which is a modified version of Jupyter Notebook. This is the recommended method, if you have a Google account. You need to select from the menu, which file to open. Copy it in your own Google drive to make modifications.\n",
    "  - from [Binder](https://mybinder.org/v2/gh/pevalisuo/AML/master). This method copies all materials and notebooks from GitHUB repository. Takes probably longer to start than Co-Lab or CSC versions and has shorter lifetime, but performs better than CSC version.\n",
    "  - from [CSC notebook server](\n",
    "https://notebooks.csc.fi/#/blueprint/b0bf0fdc4ff941738e5af553d6eec864\n",
    "). All libraries, notebooks and data is copied from the GitHUB repository of the course to be available for making exercises. CSC server takes about 30 seconds to start and performs pretty good. Maximum lifetime is 8 hours.\n",
    "  \n",
    "- Run it in [Repl.it](https://repl.it/). This can be used for fast interactive programming session, but is does not support notebooks. You can configure it to copy the materials from GitHub as well."
   ]
  },
  {
   "cell_type": "markdown",
   "id": "332f6be9",
   "metadata": {
    "slideshow": {
     "slide_type": "subslide"
    }
   },
   "source": [
    "### Installing Python\n",
    "- In Linux, it is easy to install python. In ubuntu or debian just say\n",
    "  - `apt install python3 ipython3 python3-numpy python3-scipy python-scikits-learn`\n",
    "  - `apt install spyder3 python3-seaborn`\n",
    "  - `apt install jupyter`\n",
    "- In Windows or MAC it is easiest to install Python using [Anaconda distribution](https://www.anaconda.com/distribution/). See installation instructions from their web page.\n",
    "  - Anaconda already installs most of the needed packages, and you can easily install more using the package manager provided by the Anaconda\n",
    "  - Anaconda can also be installed and used in Linux\n",
    "  \n",
    "### Note \n",
    " - Today is best to install Python3.\n",
    " - You need functional Jupyter environment and Python3 kernel to make the excercises of this course.\n",
    " - Anaconda and Python is already installed in the classroom TF4110"
   ]
  },
  {
   "cell_type": "markdown",
   "id": "2d1be7ce",
   "metadata": {
    "slideshow": {
     "slide_type": "slide"
    }
   },
   "source": [
    "## Testing Python \n",
    "\n",
    "Open Jupyter notebook or IPython console and try to test some programming"
   ]
  },
  {
   "cell_type": "code",
   "execution_count": 3,
   "id": "dc18e809",
   "metadata": {
    "ExecuteTime": {
     "end_time": "2022-09-25T16:31:31.634164Z",
     "start_time": "2022-09-25T16:31:31.623399Z"
    },
    "slideshow": {
     "slide_type": "subslide"
    }
   },
   "outputs": [
    {
     "name": "stdout",
     "output_type": "stream",
     "text": [
      "Hello World!\n",
      "Hello Again\n"
     ]
    }
   ],
   "source": [
    "# Lines starting with a Hash character, are comments, and they are not executed\n",
    "# Note that this example is written in Jupyter Notebook, running Ipython-kernel.\n",
    "\n",
    "# The Hello World application in Python is really simple, you just call a print()- \n",
    "# function, giving the string to be printed as a parameter. String literals are \n",
    "# made using single or double quotes\n",
    "print(\"Hello World!\")\n",
    "print('Hello Again')"
   ]
  },
  {
   "cell_type": "code",
   "execution_count": 4,
   "id": "0887968e",
   "metadata": {
    "ExecuteTime": {
     "end_time": "2022-09-25T16:31:32.851245Z",
     "start_time": "2022-09-25T16:31:32.818836Z"
    },
    "slideshow": {
     "slide_type": "fragment"
    }
   },
   "outputs": [
    {
     "name": "stdout",
     "output_type": "stream",
     "text": [
      "Round 0\n",
      "Round 1\n",
      "Round 2\n"
     ]
    }
   ],
   "source": [
    "# Print statement can also include C-like formatting strings to print numbers \n",
    "# For loops are used to iterate over lists or other iterable objects.\n",
    "\n",
    "for i in range(3):\n",
    "    print(\"Round %d\" % (i))"
   ]
  },
  {
   "cell_type": "code",
   "execution_count": 5,
   "id": "f9a81007",
   "metadata": {
    "ExecuteTime": {
     "end_time": "2022-09-25T16:31:39.158874Z",
     "start_time": "2022-09-25T16:31:38.957181Z"
    },
    "slideshow": {
     "slide_type": "subslide"
    }
   },
   "outputs": [
    {
     "name": "stdout",
     "output_type": "stream",
     "text": [
      "Sum of numbers from 1..5 is 15\n",
      "\n",
      "Help on function sumNumbers in module __main__:\n",
      "\n",
      "sumNumbers(n)\n",
      "    Very naive implementation of a function, which calculates \n",
      "    the sum of first n numbers. \n",
      "    \n",
      "    Example:\n",
      "      x = sumNumbers(5)\n",
      "\n"
     ]
    }
   ],
   "source": [
    "# Functions are defined using a def-keyword\n",
    "def sumNumbers(n):\n",
    "    \"\"\" \n",
    "    Very naive implementation of a function, which calculates \n",
    "    the sum of first n numbers. \n",
    "    \n",
    "    Example:\n",
    "      x = sumNumbers(5)\n",
    "    \"\"\"\n",
    "    s=0\n",
    "    for i in range(1,n+1):\n",
    "       s+=i\n",
    "    return s\n",
    "\n",
    "# Test it now\n",
    "print(\"Sum of numbers from 1..5 is %d\\n\" % (sumNumbers(5)))\n",
    "\n",
    "# Help is build in\n",
    "help(sumNumbers)"
   ]
  },
  {
   "cell_type": "markdown",
   "id": "1ae4f664",
   "metadata": {
    "slideshow": {
     "slide_type": "subslide"
    }
   },
   "source": [
    "- Note that in Python, the indexing starts from zero.\n",
    "- In many programming languages, blocks of code are indicated using braces {...}. Python uses colon for indicating the start of the block and the lines belonging in the block are separated by indendation.\n",
    "- Good resource for learning Python programming is free [Dive into Python](https://linux.die.net/diveintopython/html/) book."
   ]
  },
  {
   "cell_type": "code",
   "execution_count": 6,
   "id": "17379ce4",
   "metadata": {
    "ExecuteTime": {
     "end_time": "2022-09-25T16:31:52.736797Z",
     "start_time": "2022-09-25T16:31:50.050331Z"
    },
    "slideshow": {
     "slide_type": "subslide"
    }
   },
   "outputs": [],
   "source": [
    "## Using libraries \n",
    "\n",
    "# Import numpy, which includes similar functions than MATLAB\n",
    "import numpy as np\n",
    "\n",
    "# Import plotting library\n",
    "import matplotlib.pylab as plt\n",
    "\n",
    "# Lets generate linear range from 0 to 1 with 500 values and use that as a time axis\n",
    "# Use help(np.linspace) to see details how the function works\n",
    "t=np.linspace(0,1,512)\n",
    "\n",
    "# Then we create a sinusoidal function using the given time axis and freqency f in Hz\n",
    "f=3 # Hz\n",
    "x=np.sin(2*np.pi*f*t)"
   ]
  },
  {
   "cell_type": "code",
   "execution_count": 3,
   "id": "740c9954",
   "metadata": {
    "ExecuteTime": {
     "end_time": "2022-09-21T05:37:08.658442Z",
     "start_time": "2022-09-21T05:37:08.314501Z"
    },
    "slideshow": {
     "slide_type": "subslide"
    }
   },
   "outputs": [
    {
     "data": {
      "text/plain": [
       "Text(0, 0.5, 'Amplitude')"
      ]
     },
     "execution_count": 3,
     "metadata": {},
     "output_type": "execute_result"
    },
    {
     "data": {
      "image/png": "[encoded data removed]",
      "text/plain": [
       "<Figure size 432x288 with 1 Axes>"
      ]
     },
     "metadata": {
      "needs_background": "light"
     },
     "output_type": "display_data"
    }
   ],
   "source": [
    "# Then we plot the calculated sinusoid against the time axis, activate grid and \n",
    "# give names for X and Y axis\n",
    "plt.plot(t,x)\n",
    "plt.grid()\n",
    "plt.xlabel('Time / s')\n",
    "plt.ylabel('Amplitude')"
   ]
  },
  {
   "cell_type": "markdown",
   "id": "f853157e",
   "metadata": {
    "slideshow": {
     "slide_type": "slide"
    }
   },
   "source": [
    "## Excercises\n",
    "1. Log in to JupyterHUB, make the excercises and submit your finished notebook in JupyterHUB.\n",
    "2. If facing problems, submit questions in Moodle discussion area for current week. You can also try general chat group for Moodle."
   ]
  },
  {
   "cell_type": "code",
   "execution_count": null,
   "id": "492df845",
   "metadata": {},
   "outputs": [],
   "source": []
  }
 ],
 "metadata": {
  "celltoolbar": "Slideshow",
  "kernelspec": {
   "display_name": "Python 3 (ipykernel)",
   "language": "python",
   "name": "python3"
  },
  "language_info": {
   "codemirror_mode": {
    "name": "ipython",
    "version": 3
   },
   "file_extension": ".py",
   "mimetype": "text/x-python",
   "name": "python",
   "nbconvert_exporter": "python",
   "pygments_lexer": "ipython3",
   "version": "3.11.4"
  },
  "toc": {
   "base_numbering": 1,
   "nav_menu": {},
   "number_sections": true,
   "sideBar": true,
   "skip_h1_title": false,
   "title_cell": "Table of Contents",
   "title_sidebar": "Contents",
   "toc_cell": false,
   "toc_position": {},
   "toc_section_display": true,
   "toc_window_display": false
  }
 },
 "nbformat": 4,
 "nbformat_minor": 5
}
