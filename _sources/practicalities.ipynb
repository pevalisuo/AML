{
 "cells": [
  {
   "cell_type": "markdown",
   "metadata": {
    "slideshow": {
     "slide_type": "fragment"
    }
   },
   "source": [
    "## About the course\n",
    "\n",
    "Students who complete this course successfully will be aware of the *practical implementation and usage* of **machine learning** algorithms. Furthermore, they will be able to *apply machine learning algorithms* in *real problems* using efficient programming languages, for example Python."
   ]
  },
  {
   "cell_type": "markdown",
   "metadata": {},
   "source": [
    "### Contents\n",
    "\n",
    "1. Introduction\n",
    "2. Reading and cleaning data and plotting \n",
    "3. Preprocessing and feature extraction\n",
    "4. Unsupervised ML\n",
    "5. Unsupervised ML\n",
    "6. Supervised ML methods\n",
    "7. Supervised ML methods\n",
    "8. Evaluation and optimization of models\n",
    "9. Deep learning and on-line learning\n",
    "10. Project work"
   ]
  },
  {
   "cell_type": "markdown",
   "metadata": {},
   "source": [
    "### Solving exercises"
   ]
  },
  {
   "cell_type": "markdown",
   "metadata": {},
   "source": [
    "The exercises are given in the form of [Jupyter Notebooks](https://jupyter.org/), which are kind of interactive documents, which you are suppose fill according to the instructions in the notebook. The course has a dedicated JupyterHUB-service where the notebooks can be run and submitted.\n",
    "\n",
    "You can optionally run them in Google Colab, Binder or in a Jupyter environment which you install in your own computer.\n",
    "\n",
    "When you have finished the notebook, download it from Jupyter in notebook format (`.ipynb`) and upload the notebook to JupyterHUB."
   ]
  }
 ],
 "metadata": {
  "jupytext": {
   "formats": "ipynb,md:myst"
  },
  "kernelspec": {
   "display_name": "Python 3",
   "language": "python",
   "name": "python3"
  },
  "language_info": {
   "codemirror_mode": {
    "name": "ipython",
    "version": 3
   },
   "file_extension": ".py",
   "mimetype": "text/x-python",
   "name": "python",
   "nbconvert_exporter": "python",
   "pygments_lexer": "ipython3",
   "version": "3.9.2"
  },
  "toc": {
   "base_numbering": 1,
   "nav_menu": {},
   "number_sections": true,
   "sideBar": true,
   "skip_h1_title": false,
   "title_cell": "Table of Contents",
   "title_sidebar": "Contents",
   "toc_cell": false,
   "toc_position": {},
   "toc_section_display": true,
   "toc_window_display": false
  }
 },
 "nbformat": 4,
 "nbformat_minor": 4
}
